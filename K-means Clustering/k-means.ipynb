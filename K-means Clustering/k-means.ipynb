{
 "cells": [
  {
   "cell_type": "code",
   "execution_count": 70,
   "metadata": {},
   "outputs": [],
   "source": [
    "import numpy as np\n",
    "import pandas as pd\n",
    "import matplotlib.pyplot as plt\n",
    "import random as rd\n",
    "from sklearn.datasets import make_blobs\n"
   ]
  },
  {
   "cell_type": "code",
   "execution_count": 71,
   "metadata": {},
   "outputs": [
    {
     "data": {
      "text/html": [
       "<div>\n",
       "<style scoped>\n",
       "    .dataframe tbody tr th:only-of-type {\n",
       "        vertical-align: middle;\n",
       "    }\n",
       "\n",
       "    .dataframe tbody tr th {\n",
       "        vertical-align: top;\n",
       "    }\n",
       "\n",
       "    .dataframe thead th {\n",
       "        text-align: right;\n",
       "    }\n",
       "</style>\n",
       "<table border=\"1\" class=\"dataframe\">\n",
       "  <thead>\n",
       "    <tr style=\"text-align: right;\">\n",
       "      <th></th>\n",
       "      <th>CustomerID</th>\n",
       "      <th>Genre</th>\n",
       "      <th>Age</th>\n",
       "      <th>Annual Income (k$)</th>\n",
       "      <th>Spending Score (1-100)</th>\n",
       "    </tr>\n",
       "  </thead>\n",
       "  <tbody>\n",
       "    <tr>\n",
       "      <th>0</th>\n",
       "      <td>1</td>\n",
       "      <td>Male</td>\n",
       "      <td>19</td>\n",
       "      <td>15</td>\n",
       "      <td>39</td>\n",
       "    </tr>\n",
       "    <tr>\n",
       "      <th>1</th>\n",
       "      <td>2</td>\n",
       "      <td>Male</td>\n",
       "      <td>21</td>\n",
       "      <td>15</td>\n",
       "      <td>81</td>\n",
       "    </tr>\n",
       "    <tr>\n",
       "      <th>2</th>\n",
       "      <td>3</td>\n",
       "      <td>Female</td>\n",
       "      <td>20</td>\n",
       "      <td>16</td>\n",
       "      <td>6</td>\n",
       "    </tr>\n",
       "    <tr>\n",
       "      <th>3</th>\n",
       "      <td>4</td>\n",
       "      <td>Female</td>\n",
       "      <td>23</td>\n",
       "      <td>16</td>\n",
       "      <td>77</td>\n",
       "    </tr>\n",
       "    <tr>\n",
       "      <th>4</th>\n",
       "      <td>5</td>\n",
       "      <td>Female</td>\n",
       "      <td>31</td>\n",
       "      <td>17</td>\n",
       "      <td>40</td>\n",
       "    </tr>\n",
       "  </tbody>\n",
       "</table>\n",
       "</div>"
      ],
      "text/plain": [
       "   CustomerID   Genre  Age  Annual Income (k$)  Spending Score (1-100)\n",
       "0           1    Male   19                  15                      39\n",
       "1           2    Male   21                  15                      81\n",
       "2           3  Female   20                  16                       6\n",
       "3           4  Female   23                  16                      77\n",
       "4           5  Female   31                  17                      40"
      ]
     },
     "execution_count": 71,
     "metadata": {},
     "output_type": "execute_result"
    }
   ],
   "source": [
    "df=pd.read_csv('Mall_Customers.csv')\n",
    "df.head()"
   ]
  },
  {
   "cell_type": "code",
   "execution_count": 72,
   "metadata": {},
   "outputs": [
    {
     "name": "stdout",
     "output_type": "stream",
     "text": [
      "Annual Income (k$)        int64\n",
      "Spending Score (1-100)    int64\n",
      "dtype: object\n"
     ]
    }
   ],
   "source": [
    "df=df.iloc[:,[3,4]]\n",
    "df.head()\n",
    "print(df.dtypes)"
   ]
  },
  {
   "cell_type": "code",
   "execution_count": 73,
   "metadata": {},
   "outputs": [
    {
     "name": "stdout",
     "output_type": "stream",
     "text": [
      "(200, 2)\n",
      "<class 'pandas.core.frame.DataFrame'>\n"
     ]
    }
   ],
   "source": [
    "# from sklearn.cluster import KMeans\n",
    "# wcss = [] for i in range(1, 11): \n",
    "#     kmeans = KMeans(n_clusters = i, init = 'k-means++', random_state = 42)\n",
    "#     kmeans.fit(X) \n",
    "#     wcss.append(kmeans.inertia_)\n",
    "\n",
    "\n",
    "print(df.shape)\n",
    "print(type(df))\n"
   ]
  },
  {
   "cell_type": "code",
   "execution_count": 98,
   "metadata": {},
   "outputs": [
    {
     "name": "stdout",
     "output_type": "stream",
     "text": [
      "     Annual Income (k$)  Spending Score (1-100)\n",
      "112                  64                      42\n",
      "115                  65                      50\n",
      "171                  87                      75\n",
      "187                 101                      68\n",
      "65                   48                      59\n"
     ]
    },
    {
     "data": {
      "text/plain": [
       "[]"
      ]
     },
     "execution_count": 98,
     "metadata": {},
     "output_type": "execute_result"
    },
    {
     "data": {
      "image/png": "[encoded data removed]",
      "text/plain": [
       "<Figure size 720x720 with 1 Axes>"
      ]
     },
     "metadata": {
      "needs_background": "light"
     },
     "output_type": "display_data"
    }
   ],
   "source": [
    "#number of clusters\n",
    "rd.seed(42)\n",
    "K=5\n",
    "Centroids=df.sample(n=K)\n",
    "new_Cen=Centroids.copy()\n",
    "print(Centroids)\n",
    "\n",
    "plt.figure(figsize=(10,10))\n",
    "plt.scatter(x=df['Annual Income (k$)'],y=df['Spending Score (1-100)'],c='black')\n",
    "plt.scatter(x=Centroids['Annual Income (k$)'],y=Centroids['Spending Score (1-100)'],c='red')\n",
    "plt.xlabel(\"Annual Income\")\n",
    "plt.ylabel(\"Spending Score\")\n",
    "plt.plot()\n",
    "\n",
    " #diff=self.Centroids-previous_centroids\n",
    "\n",
    "            # if not diff.any():\n",
    "            #     break"
   ]
  },
  {
   "cell_type": "code",
   "execution_count": 95,
   "metadata": {},
   "outputs": [
    {
     "name": "stdout",
     "output_type": "stream",
     "text": [
      "<class 'numpy.ndarray'>\n",
      "[[57 58]\n",
      " [40 55]\n",
      " [54 41]\n",
      " [47 52]\n",
      " [67 56]]\n",
      "<class 'numpy.ndarray'>\n"
     ]
    }
   ],
   "source": [
    "d=df.values\n",
    "Centroids=Centroids.values\n",
    "print(type(Centroids))\n",
    "print(Centroids)\n",
    "print(type(d))\n"
   ]
  },
  {
   "attachments": {},
   "cell_type": "markdown",
   "metadata": {},
   "source": [
    "# Using Dataset"
   ]
  },
  {
   "cell_type": "code",
   "execution_count": 122,
   "metadata": {},
   "outputs": [
    {
     "data": {
      "image/png": "[encoded data removed]",
      "text/plain": [
       "<Figure size 432x288 with 1 Axes>"
      ]
     },
     "metadata": {
      "needs_background": "light"
     },
     "output_type": "display_data"
    },
    {
     "name": "stdout",
     "output_type": "stream",
     "text": [
      "[15 16 17 18 19 19 20 20 21 23 24 25 28 28 29 30 33 33 34 37 38 39]\n",
      "[[25.72727273 20.22727273]\n",
      " [55.2962963  49.20987654]\n",
      " [86.53846154 82.12820513]\n",
      " [88.2        17.11428571]\n",
      " [26.30434783 78.56521739]]\n"
     ]
    }
   ],
   "source": [
    "class KMeans_Clustering:\n",
    "\n",
    "    def __init__(self,X,number_of_clusters):\n",
    "\n",
    "        self.number_of_clusters=number_of_clusters\n",
    "        self.max_iterations=10\n",
    "        self.n_sample,self.n_features=X.shape\n",
    "        self.plot_figure=True\n",
    "        #self.Centroids=Centroids\n",
    "\n",
    "    def create_cluster(self,X,Centroids):\n",
    "\n",
    "        clusters= [[] for _ in range(self.number_of_clusters)]\n",
    "        dist=0\n",
    "        for point_idx , point in enumerate(X):\n",
    "            \n",
    "            # print(point_idx)\n",
    "            # print(point)\n",
    "            # print(type(Centroids))\n",
    "            # dist= sum(min((point-Centroids))**2)\n",
    "\n",
    "            closest_centroid = np.argmin(np.sqrt(np.sum((point-Centroids)**2,axis=1)))\n",
    "           # print(closest_centroid)\n",
    "# Gives the index of centroid having minimum distance from the point\n",
    "\n",
    "            clusters[closest_centroid].append(point_idx)\n",
    "           # print(clusters)\n",
    "        \n",
    "        return clusters,dist\n",
    "    \n",
    "    def calculate_new_centroids(self,clusters,X):\n",
    "\n",
    "        Centroids=np.zeros((self.number_of_clusters,self.n_features))\n",
    "\n",
    "        for idx ,cluster in enumerate(clusters):\n",
    "            # print(idx)\n",
    "            # print(X[cluster])\n",
    "            new_centroid=np.mean(X[cluster],axis=0)\n",
    "\n",
    "            Centroids[idx] = new_centroid\n",
    "            \n",
    "        return Centroids\n",
    "    \n",
    "    def predict_cluster(self,clusters,X):\n",
    "\n",
    "        y_pred=np.zeros(self.n_sample)\n",
    "\n",
    "        for cluster_idx , cluster in enumerate(clusters):\n",
    "\n",
    "            for sample_idx in cluster:\n",
    "\n",
    "                y_pred[sample_idx] = cluster_idx\n",
    "            \n",
    "        return y_pred\n",
    "    \n",
    "    def plot_fig(self,X,Y,centers):\n",
    "        \n",
    "       #   plt.scatter(X[:,0],X[:,1],c=Y)  can also do using this\n",
    "       # or this \n",
    "        plt.scatter(X[Y==0,0],X[Y==0,1],label=\"Cluster1\",c='red')\n",
    "        plt.scatter(X[Y==1,0],X[Y==1,1],label=\"Cluster2\",c='blue')\n",
    "        plt.scatter(X[Y==2,0],X[Y==2,1],label=\"Cluster3\",c='green')\n",
    "        plt.scatter(X[Y==3,0],X[Y==3,1],label=\"Cluster4\",c='cyan')\n",
    "        plt.scatter(X[Y==4,0],X[Y==4,1],label=\"Cluster5\",c='yellow')\n",
    "        plt.scatter(x=centers[:,0],y=centers[:,1],c='magenta',label=\"Centroids\")\n",
    "        plt.legend()\n",
    "\n",
    "        plt.show()\n",
    "\n",
    "    def fit(self,X,Centroids):\n",
    "\n",
    "        self.Centroids=Centroids\n",
    "\n",
    "        for _ in range(self.max_iterations):\n",
    "\n",
    "            clusters,dist=self.create_cluster(X,Centroids)\n",
    "\n",
    "            previous_centroids=Centroids\n",
    "            Centroids=self.calculate_new_centroids(clusters,X)\n",
    "            \n",
    "            centers=Centroids\n",
    "\n",
    "        y_pred=self.predict_cluster(clusters,X)\n",
    "\n",
    "        if self.plot_figure: # if true\n",
    "\n",
    "            self.plot_fig(X,y_pred,centers)\n",
    "        \n",
    "       # print(y_pred)\n",
    "        \n",
    "        return y_pred,centers,dist\n",
    "    \n",
    "if __name__==\"__main__\":\n",
    "    \n",
    "    # K = 3 # num of cluster\n",
    "    # X, _ = make_blobs(n_samples=1000, n_features=2, centers=num_clusters) # create dataset using make_blobs from sklearn datasets\n",
    "   \n",
    "    Kmeans=KMeans_Clustering(d,K)\n",
    "    \n",
    "    y_pred,centers,dist=Kmeans.fit(d,Centroids)\n",
    "   # print(d)\n",
    "   # print(d[y_pred==0,0])\n",
    "   # print(centers)\n",
    "    \n",
    "       \n",
    "       "
   ]
  },
  {
   "attachments": {},
   "cell_type": "markdown",
   "metadata": {},
   "source": [
    "# Create dataset using make_blobs from sklearn "
   ]
  },
  {
   "cell_type": "code",
   "execution_count": 87,
   "metadata": {},
   "outputs": [
    {
     "data": {
      "image/png": "[encoded data removed]",
      "text/plain": [
       "<Figure size 432x288 with 1 Axes>"
      ]
     },
     "metadata": {
      "needs_background": "light"
     },
     "output_type": "display_data"
    }
   ],
   "source": [
    "class KMeansClustering:\n",
    "    def __init__(self, X, num_clusters):\n",
    "        self.K = num_clusters # cluster number\n",
    "        self.max_iterations = 100 # max iteration. don't want to run inf time\n",
    "        self.num_examples, self.num_features = X.shape # num of examples, num of features\n",
    "        self.plot_figure = True # plot figure\n",
    "        \n",
    "    # randomly initialize centroids\n",
    "    def initialize_random_centroids(self, X):\n",
    "        centroids = np.zeros((self.K, self.num_features)) # row , column full with zero \n",
    "        for k in range(self.K): # iterations of \n",
    "            centroid = X[np.random.choice(range(self.num_examples))] # random centroids\n",
    "            centroids[k] = centroid\n",
    "        return centroids # return random centroids\n",
    "    \n",
    "    # create cluster Function\n",
    "    def create_cluster(self, X, centroids):\n",
    "        clusters = [[] for _ in range(self.K)]\n",
    "        for point_idx, point in enumerate(X):\n",
    "            closest_centroid = np.argmin(\n",
    "                np.sqrt(np.sum((point-centroids)**2, axis=1))\n",
    "            ) # closest centroid using euler distance equation(calculate distance of every point from centroid)\n",
    "            clusters[closest_centroid].append(point_idx)\n",
    "        \n",
    "        return clusters \n",
    "    \n",
    "    def calculate_new_centroids(self, cluster, X):\n",
    "        centroids = np.zeros((self.K, self.num_features)) # row , column full with zero\n",
    "        for idx, cluster in enumerate(cluster):\n",
    "            new_centroid = np.mean(X[cluster], axis=0) # find the value for new centroids\n",
    "            centroids[idx] = new_centroid\n",
    "        return centroids\n",
    "    \n",
    "    # prediction\n",
    "    def predict_cluster(self, clusters, X):\n",
    "        y_pred = np.zeros(self.num_examples) # row1 fillup with zero\n",
    "        for cluster_idx, cluster in enumerate(clusters):\n",
    "            for sample_idx in cluster:\n",
    "                y_pred[sample_idx] = cluster_idx\n",
    "        return y_pred\n",
    "    \n",
    "    # plotinng scatter plot\n",
    "    def plot_fig(self, X, y):\n",
    "        fig = plt.scatter(X[:, 0], X[:, 1], c=y)\n",
    "        plt.show() # visualize\n",
    "    \n",
    "    def fit(self, X):\n",
    "        centroids = self.initialize_random_centroids(X) # initialize random centroids\n",
    "        for _ in range(self.max_iterations):\n",
    "            clusters = self.create_cluster(X, centroids) # create cluster\n",
    "            previous_centroids = centroids\n",
    "            centroids = self.calculate_new_centroids(clusters, X) # calculate new centroids\n",
    "            diff = centroids - previous_centroids # calculate difference\n",
    "            if not diff.any():\n",
    "                break\n",
    "        y_pred = self.predict_cluster(clusters, X) # predict function\n",
    "        if self.plot_figure: # if true\n",
    "            self.plot_fig(X, y_pred) # plot function \n",
    "        return y_pred\n",
    "            \n",
    "if __name__ == \"__main__\":\n",
    "    np.random.seed(10)\n",
    "    num_clusters = 3 # num of cluster\n",
    "    X, _ = make_blobs(n_samples=1000, n_features=2, centers=num_clusters) # create dataset using make_blobs from sklearn datasets\n",
    "    # print(X.shape)\n",
    "    # print(X.dtype)\n",
    "    # print(X[:,1])\n",
    "    Kmeans = KMeansClustering(X, num_clusters)\n",
    "    y_pred = Kmeans.fit(X)"
   ]
  },
  {
   "cell_type": "code",
   "execution_count": null,
   "metadata": {},
   "outputs": [],
   "source": []
  }
 ],
 "metadata": {
  "kernelspec": {
   "display_name": "Python 3",
   "language": "python",
   "name": "python3"
  },
  "language_info": {
   "codemirror_mode": {
    "name": "ipython",
    "version": 3
   },
   "file_extension": ".py",
   "mimetype": "text/x-python",
   "name": "python",
   "nbconvert_exporter": "python",
   "pygments_lexer": "ipython3",
   "version": "3.10.5"
  },
  "orig_nbformat": 4
 },
 "nbformat": 4,
 "nbformat_minor": 2
}
